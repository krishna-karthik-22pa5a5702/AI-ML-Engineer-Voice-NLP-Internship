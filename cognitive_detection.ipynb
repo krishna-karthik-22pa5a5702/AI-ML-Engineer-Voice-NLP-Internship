{
 "cells": [
  {
   "cell_type": "code",
   "execution_count": null,
   "id": "eae4ff50",
   "metadata": {},
   "outputs": [],
   "source": [
    "print('Run full pipeline here')"
   ]
  }
 ],
 "metadata": {
  "kernelspec": {
   "display_name": "Python 3",
   "name": "python3"
  }
 },
 "nbformat": 4,
 "nbformat_minor": 5
}
